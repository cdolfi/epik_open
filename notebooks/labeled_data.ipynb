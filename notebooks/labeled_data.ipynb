{
 "metadata": {
  "language_info": {
   "codemirror_mode": {
    "name": "ipython",
    "version": 3
   },
   "file_extension": ".py",
   "mimetype": "text/x-python",
   "name": "python",
   "nbconvert_exporter": "python",
   "pygments_lexer": "ipython3",
   "version": "3.7.9"
  },
  "orig_nbformat": 2,
  "kernelspec": {
   "name": "python3",
   "display_name": "Python 3.7.9 64-bit",
   "metadata": {
    "interpreter": {
     "hash": "2c40183311b513c14cf292978492750b1c33d3dcce2a235730f5a16cbc5620d6"
    }
   }
  }
 },
 "nbformat": 4,
 "nbformat_minor": 2,
 "cells": [
  {
   "cell_type": "code",
   "execution_count": 77,
   "metadata": {},
   "outputs": [],
   "source": [
    "import pandas as pd\n",
    "import math"
   ]
  },
  {
   "cell_type": "code",
   "execution_count": 62,
   "metadata": {},
   "outputs": [],
   "source": [
    "df = pd.read_csv('../data/feedback_goemotion.csv')"
   ]
  },
  {
   "cell_type": "code",
   "execution_count": 63,
   "metadata": {},
   "outputs": [
    {
     "output_type": "execute_result",
     "data": {
      "text/plain": [
       "   Unnamed: 0                                               text  \\\n",
       "0           0                                      u still there   \n",
       "1           1                                          call my #   \n",
       "2           2  Really, you are better than this (calling thes...   \n",
       "3           3  We're a bunch of guys working to reduce demand...   \n",
       "4           4                     lots of danger, including jail   \n",
       "\n",
       "                      labels                   scores  \\\n",
       "0                ['neutral']              [0.9985159]   \n",
       "1                ['neutral']             [0.99839693]   \n",
       "2  ['admiration' 'approval']    [0.9710561 0.9628638]   \n",
       "3              ['curiosity']             [0.98822975]   \n",
       "4         ['fear' 'neutral']  [0.89338058 0.60538208]   \n",
       "\n",
       "  better label(s) - Justin  Other - Justin  \n",
       "0                      NaN             NaN  \n",
       "1                      NaN             NaN  \n",
       "2       admiration, caring             NaN  \n",
       "3                      NaN             NaN  \n",
       "4                      NaN  Accountability  "
      ],
      "text/html": "<div>\n<style scoped>\n    .dataframe tbody tr th:only-of-type {\n        vertical-align: middle;\n    }\n\n    .dataframe tbody tr th {\n        vertical-align: top;\n    }\n\n    .dataframe thead th {\n        text-align: right;\n    }\n</style>\n<table border=\"1\" class=\"dataframe\">\n  <thead>\n    <tr style=\"text-align: right;\">\n      <th></th>\n      <th>Unnamed: 0</th>\n      <th>text</th>\n      <th>labels</th>\n      <th>scores</th>\n      <th>better label(s) - Justin</th>\n      <th>Other - Justin</th>\n    </tr>\n  </thead>\n  <tbody>\n    <tr>\n      <th>0</th>\n      <td>0</td>\n      <td>u still there</td>\n      <td>['neutral']</td>\n      <td>[0.9985159]</td>\n      <td>NaN</td>\n      <td>NaN</td>\n    </tr>\n    <tr>\n      <th>1</th>\n      <td>1</td>\n      <td>call my #</td>\n      <td>['neutral']</td>\n      <td>[0.99839693]</td>\n      <td>NaN</td>\n      <td>NaN</td>\n    </tr>\n    <tr>\n      <th>2</th>\n      <td>2</td>\n      <td>Really, you are better than this (calling thes...</td>\n      <td>['admiration' 'approval']</td>\n      <td>[0.9710561 0.9628638]</td>\n      <td>admiration, caring</td>\n      <td>NaN</td>\n    </tr>\n    <tr>\n      <th>3</th>\n      <td>3</td>\n      <td>We're a bunch of guys working to reduce demand...</td>\n      <td>['curiosity']</td>\n      <td>[0.98822975]</td>\n      <td>NaN</td>\n      <td>NaN</td>\n    </tr>\n    <tr>\n      <th>4</th>\n      <td>4</td>\n      <td>lots of danger, including jail</td>\n      <td>['fear' 'neutral']</td>\n      <td>[0.89338058 0.60538208]</td>\n      <td>NaN</td>\n      <td>Accountability</td>\n    </tr>\n  </tbody>\n</table>\n</div>"
     },
     "metadata": {},
     "execution_count": 63
    }
   ],
   "source": [
    "df.head()"
   ]
  },
  {
   "cell_type": "code",
   "execution_count": 64,
   "metadata": {},
   "outputs": [],
   "source": [
    "df.drop(labels='Unnamed: 0', axis=1, inplace=True)"
   ]
  },
  {
   "cell_type": "code",
   "execution_count": 65,
   "metadata": {},
   "outputs": [
    {
     "output_type": "execute_result",
     "data": {
      "text/plain": [
       "                                                text  \\\n",
       "0                                      u still there   \n",
       "1                                          call my #   \n",
       "2  Really, you are better than this (calling thes...   \n",
       "3  We're a bunch of guys working to reduce demand...   \n",
       "4                     lots of danger, including jail   \n",
       "\n",
       "                      labels                   scores  \\\n",
       "0                ['neutral']              [0.9985159]   \n",
       "1                ['neutral']             [0.99839693]   \n",
       "2  ['admiration' 'approval']    [0.9710561 0.9628638]   \n",
       "3              ['curiosity']             [0.98822975]   \n",
       "4         ['fear' 'neutral']  [0.89338058 0.60538208]   \n",
       "\n",
       "  better label(s) - Justin  Other - Justin  \n",
       "0                      NaN             NaN  \n",
       "1                      NaN             NaN  \n",
       "2       admiration, caring             NaN  \n",
       "3                      NaN             NaN  \n",
       "4                      NaN  Accountability  "
      ],
      "text/html": "<div>\n<style scoped>\n    .dataframe tbody tr th:only-of-type {\n        vertical-align: middle;\n    }\n\n    .dataframe tbody tr th {\n        vertical-align: top;\n    }\n\n    .dataframe thead th {\n        text-align: right;\n    }\n</style>\n<table border=\"1\" class=\"dataframe\">\n  <thead>\n    <tr style=\"text-align: right;\">\n      <th></th>\n      <th>text</th>\n      <th>labels</th>\n      <th>scores</th>\n      <th>better label(s) - Justin</th>\n      <th>Other - Justin</th>\n    </tr>\n  </thead>\n  <tbody>\n    <tr>\n      <th>0</th>\n      <td>u still there</td>\n      <td>['neutral']</td>\n      <td>[0.9985159]</td>\n      <td>NaN</td>\n      <td>NaN</td>\n    </tr>\n    <tr>\n      <th>1</th>\n      <td>call my #</td>\n      <td>['neutral']</td>\n      <td>[0.99839693]</td>\n      <td>NaN</td>\n      <td>NaN</td>\n    </tr>\n    <tr>\n      <th>2</th>\n      <td>Really, you are better than this (calling thes...</td>\n      <td>['admiration' 'approval']</td>\n      <td>[0.9710561 0.9628638]</td>\n      <td>admiration, caring</td>\n      <td>NaN</td>\n    </tr>\n    <tr>\n      <th>3</th>\n      <td>We're a bunch of guys working to reduce demand...</td>\n      <td>['curiosity']</td>\n      <td>[0.98822975]</td>\n      <td>NaN</td>\n      <td>NaN</td>\n    </tr>\n    <tr>\n      <th>4</th>\n      <td>lots of danger, including jail</td>\n      <td>['fear' 'neutral']</td>\n      <td>[0.89338058 0.60538208]</td>\n      <td>NaN</td>\n      <td>Accountability</td>\n    </tr>\n  </tbody>\n</table>\n</div>"
     },
     "metadata": {},
     "execution_count": 65
    }
   ],
   "source": [
    "df.head()"
   ]
  },
  {
   "cell_type": "code",
   "execution_count": 66,
   "metadata": {},
   "outputs": [
    {
     "output_type": "execute_result",
     "data": {
      "text/plain": [
       "text                        object\n",
       "labels                      object\n",
       "scores                      object\n",
       "better label(s) - Justin    object\n",
       "Other - Justin              object\n",
       "dtype: object"
      ]
     },
     "metadata": {},
     "execution_count": 66
    }
   ],
   "source": [
    "df.dtypes"
   ]
  },
  {
   "cell_type": "code",
   "execution_count": 67,
   "metadata": {},
   "outputs": [],
   "source": [
    "df_complete = df.iloc[:497, ]"
   ]
  },
  {
   "cell_type": "code",
   "execution_count": 68,
   "metadata": {},
   "outputs": [
    {
     "output_type": "execute_result",
     "data": {
      "text/plain": [
       "text                        Your # is now recorded attempting to buy sex o...\n",
       "labels                                                            ['neutral']\n",
       "scores                                                           [0.99679846]\n",
       "better label(s) - Justin                                                  NaN\n",
       "Other - Justin                                                 accountability\n",
       "Name: 496, dtype: object"
      ]
     },
     "metadata": {},
     "execution_count": 68
    }
   ],
   "source": [
    "df_complete.iloc[-1, ]"
   ]
  },
  {
   "cell_type": "code",
   "execution_count": 69,
   "metadata": {},
   "outputs": [
    {
     "output_type": "execute_result",
     "data": {
      "text/plain": [
       "(497, 5)"
      ]
     },
     "metadata": {},
     "execution_count": 69
    }
   ],
   "source": [
    "df_complete.shape"
   ]
  },
  {
   "cell_type": "code",
   "execution_count": 70,
   "metadata": {},
   "outputs": [
    {
     "output_type": "execute_result",
     "data": {
      "text/plain": [
       "                                                text  \\\n",
       "0                                      u still there   \n",
       "1                                          call my #   \n",
       "2  Really, you are better than this (calling thes...   \n",
       "3  We're a bunch of guys working to reduce demand...   \n",
       "4                     lots of danger, including jail   \n",
       "\n",
       "                      labels                   scores  \\\n",
       "0                ['neutral']              [0.9985159]   \n",
       "1                ['neutral']             [0.99839693]   \n",
       "2  ['admiration' 'approval']    [0.9710561 0.9628638]   \n",
       "3              ['curiosity']             [0.98822975]   \n",
       "4         ['fear' 'neutral']  [0.89338058 0.60538208]   \n",
       "\n",
       "  better label(s) - Justin  Other - Justin  \n",
       "0                      NaN             NaN  \n",
       "1                      NaN             NaN  \n",
       "2       admiration, caring             NaN  \n",
       "3                      NaN             NaN  \n",
       "4                      NaN  Accountability  "
      ],
      "text/html": "<div>\n<style scoped>\n    .dataframe tbody tr th:only-of-type {\n        vertical-align: middle;\n    }\n\n    .dataframe tbody tr th {\n        vertical-align: top;\n    }\n\n    .dataframe thead th {\n        text-align: right;\n    }\n</style>\n<table border=\"1\" class=\"dataframe\">\n  <thead>\n    <tr style=\"text-align: right;\">\n      <th></th>\n      <th>text</th>\n      <th>labels</th>\n      <th>scores</th>\n      <th>better label(s) - Justin</th>\n      <th>Other - Justin</th>\n    </tr>\n  </thead>\n  <tbody>\n    <tr>\n      <th>0</th>\n      <td>u still there</td>\n      <td>['neutral']</td>\n      <td>[0.9985159]</td>\n      <td>NaN</td>\n      <td>NaN</td>\n    </tr>\n    <tr>\n      <th>1</th>\n      <td>call my #</td>\n      <td>['neutral']</td>\n      <td>[0.99839693]</td>\n      <td>NaN</td>\n      <td>NaN</td>\n    </tr>\n    <tr>\n      <th>2</th>\n      <td>Really, you are better than this (calling thes...</td>\n      <td>['admiration' 'approval']</td>\n      <td>[0.9710561 0.9628638]</td>\n      <td>admiration, caring</td>\n      <td>NaN</td>\n    </tr>\n    <tr>\n      <th>3</th>\n      <td>We're a bunch of guys working to reduce demand...</td>\n      <td>['curiosity']</td>\n      <td>[0.98822975]</td>\n      <td>NaN</td>\n      <td>NaN</td>\n    </tr>\n    <tr>\n      <th>4</th>\n      <td>lots of danger, including jail</td>\n      <td>['fear' 'neutral']</td>\n      <td>[0.89338058 0.60538208]</td>\n      <td>NaN</td>\n      <td>Accountability</td>\n    </tr>\n  </tbody>\n</table>\n</div>"
     },
     "metadata": {},
     "execution_count": 70
    }
   ],
   "source": [
    "df_complete.head()"
   ]
  },
  {
   "cell_type": "code",
   "execution_count": 71,
   "metadata": {},
   "outputs": [
    {
     "output_type": "execute_result",
     "data": {
      "text/plain": [
       "0.7867203219315896"
      ]
     },
     "metadata": {},
     "execution_count": 71
    }
   ],
   "source": [
    "# Accuracy of goemotion bert model\n",
    "df_complete['better label(s) - Justin'].isna().sum() / len(df_complete)"
   ]
  },
  {
   "cell_type": "code",
   "execution_count": 72,
   "metadata": {},
   "outputs": [
    {
     "output_type": "execute_result",
     "data": {
      "text/plain": [
       "                                                text  \\\n",
       "2  Really, you are better than this (calling thes...   \n",
       "\n",
       "                      labels                 scores better label(s) - Justin  \\\n",
       "2  ['admiration' 'approval']  [0.9710561 0.9628638]       admiration, caring   \n",
       "\n",
       "  Other - Justin  \n",
       "2            NaN  "
      ],
      "text/html": "<div>\n<style scoped>\n    .dataframe tbody tr th:only-of-type {\n        vertical-align: middle;\n    }\n\n    .dataframe tbody tr th {\n        vertical-align: top;\n    }\n\n    .dataframe thead th {\n        text-align: right;\n    }\n</style>\n<table border=\"1\" class=\"dataframe\">\n  <thead>\n    <tr style=\"text-align: right;\">\n      <th></th>\n      <th>text</th>\n      <th>labels</th>\n      <th>scores</th>\n      <th>better label(s) - Justin</th>\n      <th>Other - Justin</th>\n    </tr>\n  </thead>\n  <tbody>\n    <tr>\n      <th>2</th>\n      <td>Really, you are better than this (calling thes...</td>\n      <td>['admiration' 'approval']</td>\n      <td>[0.9710561 0.9628638]</td>\n      <td>admiration, caring</td>\n      <td>NaN</td>\n    </tr>\n  </tbody>\n</table>\n</div>"
     },
     "metadata": {},
     "execution_count": 72
    }
   ],
   "source": [
    "df_complete[df_complete['better label(s) - Justin'] == 'admiration, caring']"
   ]
  },
  {
   "cell_type": "code",
   "execution_count": 73,
   "metadata": {},
   "outputs": [
    {
     "output_type": "execute_result",
     "data": {
      "text/plain": [
       "                                                  text  \\\n",
       "8            sorry, i was unavailable, how can i helpu   \n",
       "31   pics are on the ad, new pics are only for peop...   \n",
       "37                                       Why go there?   \n",
       "49                                  do you understand?   \n",
       "91   Yeah been doing this for awhile. Did you know ...   \n",
       "108  Does any of this bother you as much as it does...   \n",
       "190               do you believe in someone/something?   \n",
       "245                   it's pretty good. how about you?   \n",
       "268                            Were you aware of that?   \n",
       "411               Can I hear a little about you first?   \n",
       "\n",
       "                                  labels                              scores  \\\n",
       "8                  ['remorse' 'sadness']             [0.90214115 0.31946027]   \n",
       "31                 ['remorse' 'neutral']             [0.38172522 0.74038649]   \n",
       "37                           ['neutral']                        [0.99532521]   \n",
       "49             ['confusion' 'curiosity']             [0.59036869 0.5860163 ]   \n",
       "91              ['approval' 'curiosity']             [0.63890344 0.95203876]   \n",
       "108              ['curiosity' 'neutral']             [0.3464857  0.70851058]   \n",
       "190  ['confusion' 'curiosity' 'neutral']  [0.45108095 0.75383407 0.48508221]   \n",
       "245           ['admiration' 'curiosity']             [0.92426848 0.72966903]   \n",
       "268          ['curiosity' 'realization']             [0.73868245 0.53019536]   \n",
       "411                          ['neutral']                        [0.99110526]   \n",
       "\n",
       "    better label(s) - Justin      Other - Justin  \n",
       "8                  curiosity                 NaN  \n",
       "31                 curiosity                 NaN  \n",
       "37                 curiosity                 NaN  \n",
       "49                 curiosity                 NaN  \n",
       "91                 curiosity                 NaN  \n",
       "108                curiosity  and accountability  \n",
       "190                curiosity                 NaN  \n",
       "245                curiosity                 NaN  \n",
       "268                curiosity                 NaN  \n",
       "411                curiosity                 NaN  "
      ],
      "text/html": "<div>\n<style scoped>\n    .dataframe tbody tr th:only-of-type {\n        vertical-align: middle;\n    }\n\n    .dataframe tbody tr th {\n        vertical-align: top;\n    }\n\n    .dataframe thead th {\n        text-align: right;\n    }\n</style>\n<table border=\"1\" class=\"dataframe\">\n  <thead>\n    <tr style=\"text-align: right;\">\n      <th></th>\n      <th>text</th>\n      <th>labels</th>\n      <th>scores</th>\n      <th>better label(s) - Justin</th>\n      <th>Other - Justin</th>\n    </tr>\n  </thead>\n  <tbody>\n    <tr>\n      <th>8</th>\n      <td>sorry, i was unavailable, how can i helpu</td>\n      <td>['remorse' 'sadness']</td>\n      <td>[0.90214115 0.31946027]</td>\n      <td>curiosity</td>\n      <td>NaN</td>\n    </tr>\n    <tr>\n      <th>31</th>\n      <td>pics are on the ad, new pics are only for peop...</td>\n      <td>['remorse' 'neutral']</td>\n      <td>[0.38172522 0.74038649]</td>\n      <td>curiosity</td>\n      <td>NaN</td>\n    </tr>\n    <tr>\n      <th>37</th>\n      <td>Why go there?</td>\n      <td>['neutral']</td>\n      <td>[0.99532521]</td>\n      <td>curiosity</td>\n      <td>NaN</td>\n    </tr>\n    <tr>\n      <th>49</th>\n      <td>do you understand?</td>\n      <td>['confusion' 'curiosity']</td>\n      <td>[0.59036869 0.5860163 ]</td>\n      <td>curiosity</td>\n      <td>NaN</td>\n    </tr>\n    <tr>\n      <th>91</th>\n      <td>Yeah been doing this for awhile. Did you know ...</td>\n      <td>['approval' 'curiosity']</td>\n      <td>[0.63890344 0.95203876]</td>\n      <td>curiosity</td>\n      <td>NaN</td>\n    </tr>\n    <tr>\n      <th>108</th>\n      <td>Does any of this bother you as much as it does...</td>\n      <td>['curiosity' 'neutral']</td>\n      <td>[0.3464857  0.70851058]</td>\n      <td>curiosity</td>\n      <td>and accountability</td>\n    </tr>\n    <tr>\n      <th>190</th>\n      <td>do you believe in someone/something?</td>\n      <td>['confusion' 'curiosity' 'neutral']</td>\n      <td>[0.45108095 0.75383407 0.48508221]</td>\n      <td>curiosity</td>\n      <td>NaN</td>\n    </tr>\n    <tr>\n      <th>245</th>\n      <td>it's pretty good. how about you?</td>\n      <td>['admiration' 'curiosity']</td>\n      <td>[0.92426848 0.72966903]</td>\n      <td>curiosity</td>\n      <td>NaN</td>\n    </tr>\n    <tr>\n      <th>268</th>\n      <td>Were you aware of that?</td>\n      <td>['curiosity' 'realization']</td>\n      <td>[0.73868245 0.53019536]</td>\n      <td>curiosity</td>\n      <td>NaN</td>\n    </tr>\n    <tr>\n      <th>411</th>\n      <td>Can I hear a little about you first?</td>\n      <td>['neutral']</td>\n      <td>[0.99110526]</td>\n      <td>curiosity</td>\n      <td>NaN</td>\n    </tr>\n  </tbody>\n</table>\n</div>"
     },
     "metadata": {},
     "execution_count": 73
    }
   ],
   "source": [
    "df_complete[df_complete['better label(s) - Justin'] == 'curiosity']"
   ]
  },
  {
   "cell_type": "code",
   "execution_count": 133,
   "metadata": {},
   "outputs": [
    {
     "output_type": "stream",
     "name": "stderr",
     "text": [
      "/Users/mani/.local/lib/python3.7/site-packages/ipykernel_launcher.py:6: SettingWithCopyWarning: \nA value is trying to be set on a copy of a slice from a DataFrame.\nTry using .loc[row_indexer,col_indexer] = value instead\n\nSee the caveats in the documentation: https://pandas.pydata.org/pandas-docs/stable/user_guide/indexing.html#returning-a-view-versus-a-copy\n  \n"
     ]
    }
   ],
   "source": [
    "#test = df_complete[:10]\n",
    "\n",
    "emotions = ['admiration', 'amusement', 'anger', 'annoyance', 'approval', 'caring', 'confusion', 'curiosity', 'desire', 'disappointment', 'disapproval', 'disgust', 'embarrassment', 'excitement', 'fear', 'gratitude', 'grief', 'joy', 'love', 'nervousness', 'optimism', 'pride', 'realization', 'relief', 'remorse', 'sadness', 'surprise', 'neutral']\n",
    "\n",
    "for emotion in emotions:\n",
    "    df_complete[emotion] = 0\n",
    "\n",
    "for index, row in df_complete.iterrows():\n",
    "    #print(row['better label(s) - Justin'])\n",
    "    hand_labeled = row['better label(s) - Justin']\n",
    "    if isinstance(hand_labeled, str) != True and math.isnan(hand_labeled):\n",
    "        model_labeled = row['labels']\n",
    "        model_labeled = model_labeled.strip(\"[]\")\n",
    "        model_labeled = model_labeled.replace(\"'\", \"\")\n",
    "        model_labeled = model_labeled.split()\n",
    "        #print(model_labeled.split())\n",
    "        for model_label in model_labeled:\n",
    "            df_complete.at[index, model_label] = 1\n",
    "    else:\n",
    "        hand_labeled = hand_labeled.replace(\" \", \"\")\n",
    "        hand_labeled = hand_labeled.split(',')\n",
    "        for hand_label in hand_labeled:\n",
    "            df_complete.at[index, hand_label] = 1"
   ]
  },
  {
   "cell_type": "code",
   "execution_count": 135,
   "metadata": {},
   "outputs": [
    {
     "output_type": "execute_result",
     "data": {
      "text/plain": [
       "                                                  text  \\\n",
       "2    Really, you are better than this (calling thes...   \n",
       "54        Amazing! Please tell me just one girls story   \n",
       "74                   oh yeah u like that? hehe ur cute   \n",
       "124  Wow u r brave...lots of scary girls on here. L...   \n",
       "138                          You are better than this!   \n",
       "149  awesome. are you aware that buying sex is ille...   \n",
       "155  Good stuff.  Anyway, I have to go.  It was goo...   \n",
       "286           hey kevin, im doin great.  whatcha up to   \n",
       "322               so so good, what about you chief? :)   \n",
       "342                     Really good! How can I help???   \n",
       "371                   You are absolutely charming!  ??   \n",
       "392  Dave i hope you have a good night Please Pleas...   \n",
       "394  hey there! I'm doing great, thanks for asking ...   \n",
       "458  OK Matt, like I said, you sound like a nice gu...   \n",
       "467                                     doin great..u?   \n",
       "470  You sound like a good guy, I don't want you to...   \n",
       "\n",
       "                                            labels  \\\n",
       "2                        ['admiration' 'approval']   \n",
       "54                                  ['admiration']   \n",
       "74                      ['admiration' 'amusement']   \n",
       "124                      ['admiration' 'surprise']   \n",
       "138                      ['admiration' 'approval']   \n",
       "149                     ['admiration' 'curiosity']   \n",
       "155                      ['admiration' 'optimism']   \n",
       "286                                 ['admiration']   \n",
       "322                     ['admiration' 'curiosity']   \n",
       "342                     ['admiration' 'curiosity']   \n",
       "371                                 ['admiration']   \n",
       "392             ['admiration' 'caring' 'optimism']   \n",
       "394                     ['admiration' 'gratitude']   \n",
       "458                      ['admiration' 'approval']   \n",
       "467                     ['admiration' 'curiosity']   \n",
       "470  ['admiration' 'disappointment' 'disapproval']   \n",
       "\n",
       "                                 scores better label(s) - Justin  \\\n",
       "2                 [0.9710561 0.9628638]       admiration, caring   \n",
       "54                         [0.90544182]    curiosity, admiration   \n",
       "74              [0.49104971 0.95805871]                      NaN   \n",
       "124             [0.88604105 0.95555055]                      NaN   \n",
       "138             [0.62984532 0.98096037]                      NaN   \n",
       "149             [0.97230703 0.34766856]                      NaN   \n",
       "155             [0.97715604 0.94778788]                      NaN   \n",
       "286                        [0.97747886]                      NaN   \n",
       "322             [0.92128998 0.95533746]                      NaN   \n",
       "342             [0.9890542  0.85639095]                      NaN   \n",
       "371                        [0.99561077]                      NaN   \n",
       "392  [0.37841272 0.93492419 0.63862199]                      NaN   \n",
       "394             [0.81190586 0.98473364]                      NaN   \n",
       "458             [0.34698227 0.9814828 ]                      NaN   \n",
       "467             [0.82519168 0.92496324]                      NaN   \n",
       "470  [0.35878873 0.80771095 0.3339147 ]               admiration   \n",
       "\n",
       "    Other - Justin  admiration  amusement  anger  annoyance  approval  ...  \\\n",
       "2              NaN           1          0      0          0         0  ...   \n",
       "54             NaN           1          0      0          0         0  ...   \n",
       "74     Flirtatious           1          1      0          0         0  ...   \n",
       "124      sarcastic           1          0      0          0         0  ...   \n",
       "138            NaN           1          0      0          0         1  ...   \n",
       "149            NaN           1          0      0          0         0  ...   \n",
       "155            NaN           1          0      0          0         0  ...   \n",
       "286            NaN           1          0      0          0         0  ...   \n",
       "322            NaN           1          0      0          0         0  ...   \n",
       "342            NaN           1          0      0          0         0  ...   \n",
       "371            NaN           1          0      0          0         0  ...   \n",
       "392            NaN           1          0      0          0         0  ...   \n",
       "394            NaN           1          0      0          0         0  ...   \n",
       "458            NaN           1          0      0          0         1  ...   \n",
       "467            NaN           1          0      0          0         0  ...   \n",
       "470   and humility           1          0      0          0         0  ...   \n",
       "\n",
       "     love  nervousness  optimism  pride  realization  relief  remorse  \\\n",
       "2       0            0         0      0            0       0        0   \n",
       "54      0            0         0      0            0       0        0   \n",
       "74      0            0         0      0            0       0        0   \n",
       "124     0            0         0      0            0       0        0   \n",
       "138     0            0         0      0            0       0        0   \n",
       "149     0            0         0      0            0       0        0   \n",
       "155     0            0         1      0            0       0        0   \n",
       "286     0            0         0      0            0       0        0   \n",
       "322     0            0         0      0            0       0        0   \n",
       "342     0            0         0      0            0       0        0   \n",
       "371     0            0         0      0            0       0        0   \n",
       "392     0            0         1      0            0       0        0   \n",
       "394     0            0         0      0            0       0        0   \n",
       "458     0            0         0      0            0       0        0   \n",
       "467     0            0         0      0            0       0        0   \n",
       "470     0            0         0      0            0       0        0   \n",
       "\n",
       "     sadness  surprise  neutral  \n",
       "2          0         0        0  \n",
       "54         0         0        0  \n",
       "74         0         0        0  \n",
       "124        0         1        0  \n",
       "138        0         0        0  \n",
       "149        0         0        0  \n",
       "155        0         0        0  \n",
       "286        0         0        0  \n",
       "322        0         0        0  \n",
       "342        0         0        0  \n",
       "371        0         0        0  \n",
       "392        0         0        0  \n",
       "394        0         0        0  \n",
       "458        0         0        0  \n",
       "467        0         0        0  \n",
       "470        0         0        0  \n",
       "\n",
       "[16 rows x 33 columns]"
      ],
      "text/html": "<div>\n<style scoped>\n    .dataframe tbody tr th:only-of-type {\n        vertical-align: middle;\n    }\n\n    .dataframe tbody tr th {\n        vertical-align: top;\n    }\n\n    .dataframe thead th {\n        text-align: right;\n    }\n</style>\n<table border=\"1\" class=\"dataframe\">\n  <thead>\n    <tr style=\"text-align: right;\">\n      <th></th>\n      <th>text</th>\n      <th>labels</th>\n      <th>scores</th>\n      <th>better label(s) - Justin</th>\n      <th>Other - Justin</th>\n      <th>admiration</th>\n      <th>amusement</th>\n      <th>anger</th>\n      <th>annoyance</th>\n      <th>approval</th>\n      <th>...</th>\n      <th>love</th>\n      <th>nervousness</th>\n      <th>optimism</th>\n      <th>pride</th>\n      <th>realization</th>\n      <th>relief</th>\n      <th>remorse</th>\n      <th>sadness</th>\n      <th>surprise</th>\n      <th>neutral</th>\n    </tr>\n  </thead>\n  <tbody>\n    <tr>\n      <th>2</th>\n      <td>Really, you are better than this (calling thes...</td>\n      <td>['admiration' 'approval']</td>\n      <td>[0.9710561 0.9628638]</td>\n      <td>admiration, caring</td>\n      <td>NaN</td>\n      <td>1</td>\n      <td>0</td>\n      <td>0</td>\n      <td>0</td>\n      <td>0</td>\n      <td>...</td>\n      <td>0</td>\n      <td>0</td>\n      <td>0</td>\n      <td>0</td>\n      <td>0</td>\n      <td>0</td>\n      <td>0</td>\n      <td>0</td>\n      <td>0</td>\n      <td>0</td>\n    </tr>\n    <tr>\n      <th>54</th>\n      <td>Amazing! Please tell me just one girls story</td>\n      <td>['admiration']</td>\n      <td>[0.90544182]</td>\n      <td>curiosity, admiration</td>\n      <td>NaN</td>\n      <td>1</td>\n      <td>0</td>\n      <td>0</td>\n      <td>0</td>\n      <td>0</td>\n      <td>...</td>\n      <td>0</td>\n      <td>0</td>\n      <td>0</td>\n      <td>0</td>\n      <td>0</td>\n      <td>0</td>\n      <td>0</td>\n      <td>0</td>\n      <td>0</td>\n      <td>0</td>\n    </tr>\n    <tr>\n      <th>74</th>\n      <td>oh yeah u like that? hehe ur cute</td>\n      <td>['admiration' 'amusement']</td>\n      <td>[0.49104971 0.95805871]</td>\n      <td>NaN</td>\n      <td>Flirtatious</td>\n      <td>1</td>\n      <td>1</td>\n      <td>0</td>\n      <td>0</td>\n      <td>0</td>\n      <td>...</td>\n      <td>0</td>\n      <td>0</td>\n      <td>0</td>\n      <td>0</td>\n      <td>0</td>\n      <td>0</td>\n      <td>0</td>\n      <td>0</td>\n      <td>0</td>\n      <td>0</td>\n    </tr>\n    <tr>\n      <th>124</th>\n      <td>Wow u r brave...lots of scary girls on here. L...</td>\n      <td>['admiration' 'surprise']</td>\n      <td>[0.88604105 0.95555055]</td>\n      <td>NaN</td>\n      <td>sarcastic</td>\n      <td>1</td>\n      <td>0</td>\n      <td>0</td>\n      <td>0</td>\n      <td>0</td>\n      <td>...</td>\n      <td>0</td>\n      <td>0</td>\n      <td>0</td>\n      <td>0</td>\n      <td>0</td>\n      <td>0</td>\n      <td>0</td>\n      <td>0</td>\n      <td>1</td>\n      <td>0</td>\n    </tr>\n    <tr>\n      <th>138</th>\n      <td>You are better than this!</td>\n      <td>['admiration' 'approval']</td>\n      <td>[0.62984532 0.98096037]</td>\n      <td>NaN</td>\n      <td>NaN</td>\n      <td>1</td>\n      <td>0</td>\n      <td>0</td>\n      <td>0</td>\n      <td>1</td>\n      <td>...</td>\n      <td>0</td>\n      <td>0</td>\n      <td>0</td>\n      <td>0</td>\n      <td>0</td>\n      <td>0</td>\n      <td>0</td>\n      <td>0</td>\n      <td>0</td>\n      <td>0</td>\n    </tr>\n    <tr>\n      <th>149</th>\n      <td>awesome. are you aware that buying sex is ille...</td>\n      <td>['admiration' 'curiosity']</td>\n      <td>[0.97230703 0.34766856]</td>\n      <td>NaN</td>\n      <td>NaN</td>\n      <td>1</td>\n      <td>0</td>\n      <td>0</td>\n      <td>0</td>\n      <td>0</td>\n      <td>...</td>\n      <td>0</td>\n      <td>0</td>\n      <td>0</td>\n      <td>0</td>\n      <td>0</td>\n      <td>0</td>\n      <td>0</td>\n      <td>0</td>\n      <td>0</td>\n      <td>0</td>\n    </tr>\n    <tr>\n      <th>155</th>\n      <td>Good stuff.  Anyway, I have to go.  It was goo...</td>\n      <td>['admiration' 'optimism']</td>\n      <td>[0.97715604 0.94778788]</td>\n      <td>NaN</td>\n      <td>NaN</td>\n      <td>1</td>\n      <td>0</td>\n      <td>0</td>\n      <td>0</td>\n      <td>0</td>\n      <td>...</td>\n      <td>0</td>\n      <td>0</td>\n      <td>1</td>\n      <td>0</td>\n      <td>0</td>\n      <td>0</td>\n      <td>0</td>\n      <td>0</td>\n      <td>0</td>\n      <td>0</td>\n    </tr>\n    <tr>\n      <th>286</th>\n      <td>hey kevin, im doin great.  whatcha up to</td>\n      <td>['admiration']</td>\n      <td>[0.97747886]</td>\n      <td>NaN</td>\n      <td>NaN</td>\n      <td>1</td>\n      <td>0</td>\n      <td>0</td>\n      <td>0</td>\n      <td>0</td>\n      <td>...</td>\n      <td>0</td>\n      <td>0</td>\n      <td>0</td>\n      <td>0</td>\n      <td>0</td>\n      <td>0</td>\n      <td>0</td>\n      <td>0</td>\n      <td>0</td>\n      <td>0</td>\n    </tr>\n    <tr>\n      <th>322</th>\n      <td>so so good, what about you chief? :)</td>\n      <td>['admiration' 'curiosity']</td>\n      <td>[0.92128998 0.95533746]</td>\n      <td>NaN</td>\n      <td>NaN</td>\n      <td>1</td>\n      <td>0</td>\n      <td>0</td>\n      <td>0</td>\n      <td>0</td>\n      <td>...</td>\n      <td>0</td>\n      <td>0</td>\n      <td>0</td>\n      <td>0</td>\n      <td>0</td>\n      <td>0</td>\n      <td>0</td>\n      <td>0</td>\n      <td>0</td>\n      <td>0</td>\n    </tr>\n    <tr>\n      <th>342</th>\n      <td>Really good! How can I help???</td>\n      <td>['admiration' 'curiosity']</td>\n      <td>[0.9890542  0.85639095]</td>\n      <td>NaN</td>\n      <td>NaN</td>\n      <td>1</td>\n      <td>0</td>\n      <td>0</td>\n      <td>0</td>\n      <td>0</td>\n      <td>...</td>\n      <td>0</td>\n      <td>0</td>\n      <td>0</td>\n      <td>0</td>\n      <td>0</td>\n      <td>0</td>\n      <td>0</td>\n      <td>0</td>\n      <td>0</td>\n      <td>0</td>\n    </tr>\n    <tr>\n      <th>371</th>\n      <td>You are absolutely charming!  ??</td>\n      <td>['admiration']</td>\n      <td>[0.99561077]</td>\n      <td>NaN</td>\n      <td>NaN</td>\n      <td>1</td>\n      <td>0</td>\n      <td>0</td>\n      <td>0</td>\n      <td>0</td>\n      <td>...</td>\n      <td>0</td>\n      <td>0</td>\n      <td>0</td>\n      <td>0</td>\n      <td>0</td>\n      <td>0</td>\n      <td>0</td>\n      <td>0</td>\n      <td>0</td>\n      <td>0</td>\n    </tr>\n    <tr>\n      <th>392</th>\n      <td>Dave i hope you have a good night Please Pleas...</td>\n      <td>['admiration' 'caring' 'optimism']</td>\n      <td>[0.37841272 0.93492419 0.63862199]</td>\n      <td>NaN</td>\n      <td>NaN</td>\n      <td>1</td>\n      <td>0</td>\n      <td>0</td>\n      <td>0</td>\n      <td>0</td>\n      <td>...</td>\n      <td>0</td>\n      <td>0</td>\n      <td>1</td>\n      <td>0</td>\n      <td>0</td>\n      <td>0</td>\n      <td>0</td>\n      <td>0</td>\n      <td>0</td>\n      <td>0</td>\n    </tr>\n    <tr>\n      <th>394</th>\n      <td>hey there! I'm doing great, thanks for asking ...</td>\n      <td>['admiration' 'gratitude']</td>\n      <td>[0.81190586 0.98473364]</td>\n      <td>NaN</td>\n      <td>NaN</td>\n      <td>1</td>\n      <td>0</td>\n      <td>0</td>\n      <td>0</td>\n      <td>0</td>\n      <td>...</td>\n      <td>0</td>\n      <td>0</td>\n      <td>0</td>\n      <td>0</td>\n      <td>0</td>\n      <td>0</td>\n      <td>0</td>\n      <td>0</td>\n      <td>0</td>\n      <td>0</td>\n    </tr>\n    <tr>\n      <th>458</th>\n      <td>OK Matt, like I said, you sound like a nice gu...</td>\n      <td>['admiration' 'approval']</td>\n      <td>[0.34698227 0.9814828 ]</td>\n      <td>NaN</td>\n      <td>NaN</td>\n      <td>1</td>\n      <td>0</td>\n      <td>0</td>\n      <td>0</td>\n      <td>1</td>\n      <td>...</td>\n      <td>0</td>\n      <td>0</td>\n      <td>0</td>\n      <td>0</td>\n      <td>0</td>\n      <td>0</td>\n      <td>0</td>\n      <td>0</td>\n      <td>0</td>\n      <td>0</td>\n    </tr>\n    <tr>\n      <th>467</th>\n      <td>doin great..u?</td>\n      <td>['admiration' 'curiosity']</td>\n      <td>[0.82519168 0.92496324]</td>\n      <td>NaN</td>\n      <td>NaN</td>\n      <td>1</td>\n      <td>0</td>\n      <td>0</td>\n      <td>0</td>\n      <td>0</td>\n      <td>...</td>\n      <td>0</td>\n      <td>0</td>\n      <td>0</td>\n      <td>0</td>\n      <td>0</td>\n      <td>0</td>\n      <td>0</td>\n      <td>0</td>\n      <td>0</td>\n      <td>0</td>\n    </tr>\n    <tr>\n      <th>470</th>\n      <td>You sound like a good guy, I don't want you to...</td>\n      <td>['admiration' 'disappointment' 'disapproval']</td>\n      <td>[0.35878873 0.80771095 0.3339147 ]</td>\n      <td>admiration</td>\n      <td>and humility</td>\n      <td>1</td>\n      <td>0</td>\n      <td>0</td>\n      <td>0</td>\n      <td>0</td>\n      <td>...</td>\n      <td>0</td>\n      <td>0</td>\n      <td>0</td>\n      <td>0</td>\n      <td>0</td>\n      <td>0</td>\n      <td>0</td>\n      <td>0</td>\n      <td>0</td>\n      <td>0</td>\n    </tr>\n  </tbody>\n</table>\n<p>16 rows × 33 columns</p>\n</div>"
     },
     "metadata": {},
     "execution_count": 135
    }
   ],
   "source": [
    "df_complete[df_complete['admiration'] == 1]"
   ]
  },
  {
   "cell_type": "code",
   "execution_count": 136,
   "metadata": {},
   "outputs": [
    {
     "output_type": "execute_result",
     "data": {
      "text/plain": [
       "                                                text  \\\n",
       "0                                      u still there   \n",
       "1                                          call my #   \n",
       "2  Really, you are better than this (calling thes...   \n",
       "3  We're a bunch of guys working to reduce demand...   \n",
       "4                     lots of danger, including jail   \n",
       "\n",
       "                      labels                   scores  \\\n",
       "0                ['neutral']              [0.9985159]   \n",
       "1                ['neutral']             [0.99839693]   \n",
       "2  ['admiration' 'approval']    [0.9710561 0.9628638]   \n",
       "3              ['curiosity']             [0.98822975]   \n",
       "4         ['fear' 'neutral']  [0.89338058 0.60538208]   \n",
       "\n",
       "  better label(s) - Justin  Other - Justin  admiration  amusement  anger  \\\n",
       "0                      NaN             NaN           0          0      0   \n",
       "1                      NaN             NaN           0          0      0   \n",
       "2       admiration, caring             NaN           1          0      0   \n",
       "3                      NaN             NaN           0          0      0   \n",
       "4                      NaN  Accountability           0          0      0   \n",
       "\n",
       "   annoyance  approval  ...  love  nervousness  optimism  pride  realization  \\\n",
       "0          0         0  ...     0            0         0      0            0   \n",
       "1          0         0  ...     0            0         0      0            0   \n",
       "2          0         0  ...     0            0         0      0            0   \n",
       "3          0         0  ...     0            0         0      0            0   \n",
       "4          0         0  ...     0            0         0      0            0   \n",
       "\n",
       "   relief  remorse  sadness  surprise  neutral  \n",
       "0       0        0        0         0        1  \n",
       "1       0        0        0         0        1  \n",
       "2       0        0        0         0        0  \n",
       "3       0        0        0         0        0  \n",
       "4       0        0        0         0        1  \n",
       "\n",
       "[5 rows x 33 columns]"
      ],
      "text/html": "<div>\n<style scoped>\n    .dataframe tbody tr th:only-of-type {\n        vertical-align: middle;\n    }\n\n    .dataframe tbody tr th {\n        vertical-align: top;\n    }\n\n    .dataframe thead th {\n        text-align: right;\n    }\n</style>\n<table border=\"1\" class=\"dataframe\">\n  <thead>\n    <tr style=\"text-align: right;\">\n      <th></th>\n      <th>text</th>\n      <th>labels</th>\n      <th>scores</th>\n      <th>better label(s) - Justin</th>\n      <th>Other - Justin</th>\n      <th>admiration</th>\n      <th>amusement</th>\n      <th>anger</th>\n      <th>annoyance</th>\n      <th>approval</th>\n      <th>...</th>\n      <th>love</th>\n      <th>nervousness</th>\n      <th>optimism</th>\n      <th>pride</th>\n      <th>realization</th>\n      <th>relief</th>\n      <th>remorse</th>\n      <th>sadness</th>\n      <th>surprise</th>\n      <th>neutral</th>\n    </tr>\n  </thead>\n  <tbody>\n    <tr>\n      <th>0</th>\n      <td>u still there</td>\n      <td>['neutral']</td>\n      <td>[0.9985159]</td>\n      <td>NaN</td>\n      <td>NaN</td>\n      <td>0</td>\n      <td>0</td>\n      <td>0</td>\n      <td>0</td>\n      <td>0</td>\n      <td>...</td>\n      <td>0</td>\n      <td>0</td>\n      <td>0</td>\n      <td>0</td>\n      <td>0</td>\n      <td>0</td>\n      <td>0</td>\n      <td>0</td>\n      <td>0</td>\n      <td>1</td>\n    </tr>\n    <tr>\n      <th>1</th>\n      <td>call my #</td>\n      <td>['neutral']</td>\n      <td>[0.99839693]</td>\n      <td>NaN</td>\n      <td>NaN</td>\n      <td>0</td>\n      <td>0</td>\n      <td>0</td>\n      <td>0</td>\n      <td>0</td>\n      <td>...</td>\n      <td>0</td>\n      <td>0</td>\n      <td>0</td>\n      <td>0</td>\n      <td>0</td>\n      <td>0</td>\n      <td>0</td>\n      <td>0</td>\n      <td>0</td>\n      <td>1</td>\n    </tr>\n    <tr>\n      <th>2</th>\n      <td>Really, you are better than this (calling thes...</td>\n      <td>['admiration' 'approval']</td>\n      <td>[0.9710561 0.9628638]</td>\n      <td>admiration, caring</td>\n      <td>NaN</td>\n      <td>1</td>\n      <td>0</td>\n      <td>0</td>\n      <td>0</td>\n      <td>0</td>\n      <td>...</td>\n      <td>0</td>\n      <td>0</td>\n      <td>0</td>\n      <td>0</td>\n      <td>0</td>\n      <td>0</td>\n      <td>0</td>\n      <td>0</td>\n      <td>0</td>\n      <td>0</td>\n    </tr>\n    <tr>\n      <th>3</th>\n      <td>We're a bunch of guys working to reduce demand...</td>\n      <td>['curiosity']</td>\n      <td>[0.98822975]</td>\n      <td>NaN</td>\n      <td>NaN</td>\n      <td>0</td>\n      <td>0</td>\n      <td>0</td>\n      <td>0</td>\n      <td>0</td>\n      <td>...</td>\n      <td>0</td>\n      <td>0</td>\n      <td>0</td>\n      <td>0</td>\n      <td>0</td>\n      <td>0</td>\n      <td>0</td>\n      <td>0</td>\n      <td>0</td>\n      <td>0</td>\n    </tr>\n    <tr>\n      <th>4</th>\n      <td>lots of danger, including jail</td>\n      <td>['fear' 'neutral']</td>\n      <td>[0.89338058 0.60538208]</td>\n      <td>NaN</td>\n      <td>Accountability</td>\n      <td>0</td>\n      <td>0</td>\n      <td>0</td>\n      <td>0</td>\n      <td>0</td>\n      <td>...</td>\n      <td>0</td>\n      <td>0</td>\n      <td>0</td>\n      <td>0</td>\n      <td>0</td>\n      <td>0</td>\n      <td>0</td>\n      <td>0</td>\n      <td>0</td>\n      <td>1</td>\n    </tr>\n  </tbody>\n</table>\n<p>5 rows × 33 columns</p>\n</div>"
     },
     "metadata": {},
     "execution_count": 136
    }
   ],
   "source": [
    "df_complete.head()"
   ]
  },
  {
   "cell_type": "code",
   "execution_count": 138,
   "metadata": {},
   "outputs": [
    {
     "output_type": "stream",
     "name": "stderr",
     "text": [
      "/Users/mani/Desktop/epik-project-nlp/venv/lib/python3.7/site-packages/pandas/core/frame.py:4312: SettingWithCopyWarning: \nA value is trying to be set on a copy of a slice from a DataFrame\n\nSee the caveats in the documentation: https://pandas.pydata.org/pandas-docs/stable/user_guide/indexing.html#returning-a-view-versus-a-copy\n  errors=errors,\n"
     ]
    }
   ],
   "source": [
    "df_complete.drop(labels=['labels', 'scores', 'better label(s) - Justin', 'Other - Justin'], axis=1, inplace=True)"
   ]
  },
  {
   "cell_type": "code",
   "execution_count": 139,
   "metadata": {},
   "outputs": [
    {
     "output_type": "execute_result",
     "data": {
      "text/plain": [
       "                                                text  admiration  amusement  \\\n",
       "0                                      u still there           0          0   \n",
       "1                                          call my #           0          0   \n",
       "2  Really, you are better than this (calling thes...           1          0   \n",
       "3  We're a bunch of guys working to reduce demand...           0          0   \n",
       "4                     lots of danger, including jail           0          0   \n",
       "\n",
       "   anger  annoyance  approval  caring  confusion  curiosity  desire  ...  \\\n",
       "0      0          0         0       0          0          0       0  ...   \n",
       "1      0          0         0       0          0          0       0  ...   \n",
       "2      0          0         0       1          0          0       0  ...   \n",
       "3      0          0         0       0          0          1       0  ...   \n",
       "4      0          0         0       0          0          0       0  ...   \n",
       "\n",
       "   love  nervousness  optimism  pride  realization  relief  remorse  sadness  \\\n",
       "0     0            0         0      0            0       0        0        0   \n",
       "1     0            0         0      0            0       0        0        0   \n",
       "2     0            0         0      0            0       0        0        0   \n",
       "3     0            0         0      0            0       0        0        0   \n",
       "4     0            0         0      0            0       0        0        0   \n",
       "\n",
       "   surprise  neutral  \n",
       "0         0        1  \n",
       "1         0        1  \n",
       "2         0        0  \n",
       "3         0        0  \n",
       "4         0        1  \n",
       "\n",
       "[5 rows x 29 columns]"
      ],
      "text/html": "<div>\n<style scoped>\n    .dataframe tbody tr th:only-of-type {\n        vertical-align: middle;\n    }\n\n    .dataframe tbody tr th {\n        vertical-align: top;\n    }\n\n    .dataframe thead th {\n        text-align: right;\n    }\n</style>\n<table border=\"1\" class=\"dataframe\">\n  <thead>\n    <tr style=\"text-align: right;\">\n      <th></th>\n      <th>text</th>\n      <th>admiration</th>\n      <th>amusement</th>\n      <th>anger</th>\n      <th>annoyance</th>\n      <th>approval</th>\n      <th>caring</th>\n      <th>confusion</th>\n      <th>curiosity</th>\n      <th>desire</th>\n      <th>...</th>\n      <th>love</th>\n      <th>nervousness</th>\n      <th>optimism</th>\n      <th>pride</th>\n      <th>realization</th>\n      <th>relief</th>\n      <th>remorse</th>\n      <th>sadness</th>\n      <th>surprise</th>\n      <th>neutral</th>\n    </tr>\n  </thead>\n  <tbody>\n    <tr>\n      <th>0</th>\n      <td>u still there</td>\n      <td>0</td>\n      <td>0</td>\n      <td>0</td>\n      <td>0</td>\n      <td>0</td>\n      <td>0</td>\n      <td>0</td>\n      <td>0</td>\n      <td>0</td>\n      <td>...</td>\n      <td>0</td>\n      <td>0</td>\n      <td>0</td>\n      <td>0</td>\n      <td>0</td>\n      <td>0</td>\n      <td>0</td>\n      <td>0</td>\n      <td>0</td>\n      <td>1</td>\n    </tr>\n    <tr>\n      <th>1</th>\n      <td>call my #</td>\n      <td>0</td>\n      <td>0</td>\n      <td>0</td>\n      <td>0</td>\n      <td>0</td>\n      <td>0</td>\n      <td>0</td>\n      <td>0</td>\n      <td>0</td>\n      <td>...</td>\n      <td>0</td>\n      <td>0</td>\n      <td>0</td>\n      <td>0</td>\n      <td>0</td>\n      <td>0</td>\n      <td>0</td>\n      <td>0</td>\n      <td>0</td>\n      <td>1</td>\n    </tr>\n    <tr>\n      <th>2</th>\n      <td>Really, you are better than this (calling thes...</td>\n      <td>1</td>\n      <td>0</td>\n      <td>0</td>\n      <td>0</td>\n      <td>0</td>\n      <td>1</td>\n      <td>0</td>\n      <td>0</td>\n      <td>0</td>\n      <td>...</td>\n      <td>0</td>\n      <td>0</td>\n      <td>0</td>\n      <td>0</td>\n      <td>0</td>\n      <td>0</td>\n      <td>0</td>\n      <td>0</td>\n      <td>0</td>\n      <td>0</td>\n    </tr>\n    <tr>\n      <th>3</th>\n      <td>We're a bunch of guys working to reduce demand...</td>\n      <td>0</td>\n      <td>0</td>\n      <td>0</td>\n      <td>0</td>\n      <td>0</td>\n      <td>0</td>\n      <td>0</td>\n      <td>1</td>\n      <td>0</td>\n      <td>...</td>\n      <td>0</td>\n      <td>0</td>\n      <td>0</td>\n      <td>0</td>\n      <td>0</td>\n      <td>0</td>\n      <td>0</td>\n      <td>0</td>\n      <td>0</td>\n      <td>0</td>\n    </tr>\n    <tr>\n      <th>4</th>\n      <td>lots of danger, including jail</td>\n      <td>0</td>\n      <td>0</td>\n      <td>0</td>\n      <td>0</td>\n      <td>0</td>\n      <td>0</td>\n      <td>0</td>\n      <td>0</td>\n      <td>0</td>\n      <td>...</td>\n      <td>0</td>\n      <td>0</td>\n      <td>0</td>\n      <td>0</td>\n      <td>0</td>\n      <td>0</td>\n      <td>0</td>\n      <td>0</td>\n      <td>0</td>\n      <td>1</td>\n    </tr>\n  </tbody>\n</table>\n<p>5 rows × 29 columns</p>\n</div>"
     },
     "metadata": {},
     "execution_count": 139
    }
   ],
   "source": [
    "df_complete.head()"
   ]
  },
  {
   "cell_type": "code",
   "execution_count": 141,
   "metadata": {},
   "outputs": [],
   "source": [
    "df_complete.to_csv('../data/labeled_data_1000.csv')"
   ]
  },
  {
   "cell_type": "code",
   "execution_count": null,
   "metadata": {},
   "outputs": [],
   "source": []
  }
 ]
}