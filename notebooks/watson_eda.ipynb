{
 "metadata": {
  "language_info": {
   "codemirror_mode": {
    "name": "ipython",
    "version": 3
   },
   "file_extension": ".py",
   "mimetype": "text/x-python",
   "name": "python",
   "nbconvert_exporter": "python",
   "pygments_lexer": "ipython3",
   "version": "3.7.3-final"
  },
  "orig_nbformat": 2,
  "kernelspec": {
   "name": "python3",
   "display_name": "Python 3.7.3 64-bit",
   "metadata": {
    "interpreter": {
     "hash": "70b38d7a306a849643e446cd70466270a13445e5987dfa1344ef2b127438fa4d"
    }
   }
  }
 },
 "nbformat": 4,
 "nbformat_minor": 2,
 "cells": [
  {
   "cell_type": "code",
   "execution_count": 19,
   "metadata": {},
   "outputs": [],
   "source": [
    "import pandas as pd\n",
    "import numpy as np\n",
    "import re\n",
    "import os\n",
    "import datetime\n",
    "from collections import defaultdict\n",
    "from pathlib import Path\n",
    "\n",
    "import json\n",
    "from ibm_cloud_sdk_core.authenticators import IAMAuthenticator\n",
    "from ibm_watson import NaturalLanguageUnderstandingV1\n",
    "from ibm_watson.natural_language_understanding_v1 import Features, ConceptsOptions, EmotionOptions, EntitiesOptions, KeywordsOptions, SemanticRolesOptions, SentimentOptions, CategoriesOptions, SyntaxOptions, SyntaxOptionsTokens\n",
    "authenticator = IAMAuthenticator( apikey )\n",
    "nlu = NaturalLanguageUnderstandingV1( version='2018-11-16', authenticator=authenticator )\n",
    "nlu.set_service_url( url )"
   ]
  },
  {
   "cell_type": "code",
   "execution_count": 11,
   "metadata": {},
   "outputs": [],
   "source": [
    "apikey = \"CnELF_rkq2iTbjiq07Q0FdE2O48HhDn-UsgTTIrP1rK3\"  # <-- PASTE YOUR APIKEY HERE\n",
    "url = \"https://api.us-south.natural-language-understanding.watson.cloud.ibm.com/instances/88fb2036-5c04-4fba-80a5-9126387d5c89\"  # <-- PASTE YOUR SERVICE URL HERE"
   ]
  },
  {
   "cell_type": "code",
   "execution_count": 30,
   "metadata": {},
   "outputs": [],
   "source": [
    "def watson_analyze(message):\n",
    "\n",
    "    \"\"\"\n",
    "    Extract keywords and sematic roles from text\n",
    "    Input : message\n",
    "    Output : Array of action verbs, Array of Keywords\n",
    "    \"\"\"\n",
    "    try:\n",
    "        result = nlu.analyze(text=message,features=Features(emotion=EmotionOptions() ,sentiment=SentimentOptions())).get_result()\n",
    "    except:\n",
    "        return pd.Series([0,0,0,0,0,0])\n",
    "    try:\n",
    "        sad_score = result[\"emotion\"][\"document\"][\"emotion\"][\"sadness\"]\n",
    "    except: \n",
    "        sad_score = 0\n",
    "    try:\n",
    "        joy_score = result[\"emotion\"][\"document\"][\"emotion\"][\"joy\"]\n",
    "    except: \n",
    "        joy_score = 0\n",
    "    try:\n",
    "        fear_score = result[\"emotion\"][\"document\"][\"emotion\"][\"fear\"]\n",
    "    except: \n",
    "        fear_score = 0\n",
    "    try:\n",
    "        disgust_score = result[\"emotion\"][\"document\"][\"emotion\"][\"disgust\"]\n",
    "    except: \n",
    "        disgust_score = 0\n",
    "    try:\n",
    "        anger_score = result[\"emotion\"][\"document\"][\"emotion\"][\"anger\"]\n",
    "    except: \n",
    "        anger_score = 0\n",
    "    try:\n",
    "        semtiment_score = result[\"sentiment\"][\"document\"][\"emotion\"][\"score\"]\n",
    "    except: \n",
    "        semtiment_score = 0\n",
    "\n",
    "    return pd.Series([sad_score, joy_score,fear_score,disgust_score,anger_score,semtiment_score])"
   ]
  },
  {
   "cell_type": "code",
   "execution_count": 3,
   "metadata": {},
   "outputs": [],
   "source": [
    "df = pd.read_csv('../data/evaluation_volunteer_text_1000.csv')"
   ]
  },
  {
   "cell_type": "code",
   "execution_count": 4,
   "metadata": {},
   "outputs": [],
   "source": [
    "df.drop('Unnamed: 0', axis=1, inplace=True)"
   ]
  },
  {
   "cell_type": "code",
   "execution_count": 7,
   "metadata": {},
   "outputs": [
    {
     "output_type": "execute_result",
     "data": {
      "text/plain": [
       "                                                text  sad-watson  joy-watson  \\\n",
       "0                                      u still there         NaN         NaN   \n",
       "1                                          call my #         NaN         NaN   \n",
       "2  Really, you are better than this (calling thes...         NaN         NaN   \n",
       "3  We're a bunch of guys working to reduce demand...         NaN         NaN   \n",
       "4                     lots of danger, including jail         NaN         NaN   \n",
       "\n",
       "   fear-watson  disgust-watson  anger-watson  sentiment-watson  \n",
       "0          NaN             NaN           NaN               NaN  \n",
       "1          NaN             NaN           NaN               NaN  \n",
       "2          NaN             NaN           NaN               NaN  \n",
       "3          NaN             NaN           NaN               NaN  \n",
       "4          NaN             NaN           NaN               NaN  "
      ],
      "text/html": "<div>\n<style scoped>\n    .dataframe tbody tr th:only-of-type {\n        vertical-align: middle;\n    }\n\n    .dataframe tbody tr th {\n        vertical-align: top;\n    }\n\n    .dataframe thead th {\n        text-align: right;\n    }\n</style>\n<table border=\"1\" class=\"dataframe\">\n  <thead>\n    <tr style=\"text-align: right;\">\n      <th></th>\n      <th>text</th>\n      <th>sad-watson</th>\n      <th>joy-watson</th>\n      <th>fear-watson</th>\n      <th>disgust-watson</th>\n      <th>anger-watson</th>\n      <th>sentiment-watson</th>\n    </tr>\n  </thead>\n  <tbody>\n    <tr>\n      <th>0</th>\n      <td>u still there</td>\n      <td>NaN</td>\n      <td>NaN</td>\n      <td>NaN</td>\n      <td>NaN</td>\n      <td>NaN</td>\n      <td>NaN</td>\n    </tr>\n    <tr>\n      <th>1</th>\n      <td>call my #</td>\n      <td>NaN</td>\n      <td>NaN</td>\n      <td>NaN</td>\n      <td>NaN</td>\n      <td>NaN</td>\n      <td>NaN</td>\n    </tr>\n    <tr>\n      <th>2</th>\n      <td>Really, you are better than this (calling thes...</td>\n      <td>NaN</td>\n      <td>NaN</td>\n      <td>NaN</td>\n      <td>NaN</td>\n      <td>NaN</td>\n      <td>NaN</td>\n    </tr>\n    <tr>\n      <th>3</th>\n      <td>We're a bunch of guys working to reduce demand...</td>\n      <td>NaN</td>\n      <td>NaN</td>\n      <td>NaN</td>\n      <td>NaN</td>\n      <td>NaN</td>\n      <td>NaN</td>\n    </tr>\n    <tr>\n      <th>4</th>\n      <td>lots of danger, including jail</td>\n      <td>NaN</td>\n      <td>NaN</td>\n      <td>NaN</td>\n      <td>NaN</td>\n      <td>NaN</td>\n      <td>NaN</td>\n    </tr>\n  </tbody>\n</table>\n</div>"
     },
     "metadata": {},
     "execution_count": 7
    }
   ],
   "source": [
    "df.head()"
   ]
  },
  {
   "cell_type": "code",
   "execution_count": 6,
   "metadata": {},
   "outputs": [],
   "source": [
    "df[\"sad-watson\"] = np.nan\n",
    "df[\"joy-watson\"] = np.nan\n",
    "df[\"fear-watson\"] = np.nan\n",
    "df[\"disgust-watson\"] = np.nan\n",
    "df[\"anger-watson\"] = np.nan\n",
    "df[\"sentiment-watson\"] = np.nan"
   ]
  },
  {
   "cell_type": "code",
   "execution_count": null,
   "metadata": {},
   "outputs": [],
   "source": [
    "df[[\"sad-watson\", \"joy-watson\",\"fear-watson\" ,\"disgust-watson\", \"anger-watson\", \"sentiment-watson\"]] = df[\"text\"].apply(\n",
    "    lambda x: watson_analyze(x)\n",
    ")"
   ]
  },
  {
   "cell_type": "code",
   "execution_count": null,
   "metadata": {},
   "outputs": [],
   "source": [
    "df.to_csv(\"../data/watson_label.csv\")"
   ]
  }
 ]
}