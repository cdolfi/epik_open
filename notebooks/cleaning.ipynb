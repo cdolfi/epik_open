{
 "metadata": {
  "language_info": {
   "codemirror_mode": {
    "name": "ipython",
    "version": 3
   },
   "file_extension": ".py",
   "mimetype": "text/x-python",
   "name": "python",
   "nbconvert_exporter": "python",
   "pygments_lexer": "ipython3",
   "version": "3.7.3-final"
  },
  "orig_nbformat": 2,
  "kernelspec": {
   "name": "python3",
   "display_name": "Python 3",
   "language": "python"
  }
 },
 "nbformat": 4,
 "nbformat_minor": 2,
 "cells": [
  {
   "cell_type": "code",
   "execution_count": 3,
   "metadata": {},
   "outputs": [],
   "source": [
    "import pandas as pd\n",
    "import numpy as np\n",
    "import matplotlib.pyplot as plt\n",
    "plt.style.use('seaborn-bright')"
   ]
  },
  {
   "cell_type": "code",
   "execution_count": 4,
   "metadata": {},
   "outputs": [],
   "source": [
    "convo_all = pd.read_csv(\"../data/Epik_2019A.csv\")\n",
    "df_2019b = pd.read_csv(\"../data/Epik_2019B.csv\")\n",
    "df_2020a = pd.read_csv(\"../data/Epik_2020A.csv\")\n",
    "df_2020b = pd.read_csv(\"../data/Epik_2020B.csv\")\n",
    "df_2021a = pd.read_csv(\"../data/Epik_2021A.csv\")"
   ]
  },
  {
   "cell_type": "code",
   "execution_count": 5,
   "metadata": {},
   "outputs": [
    {
     "output_type": "execute_result",
     "data": {
      "text/plain": [
       "                                 AccountId  AccountNum Channel  \\\n",
       "0     f460ad3a-0041-4082-9269-c4ff4e370b44         NaN     Sms   \n",
       "1     f460ad3a-0041-4082-9269-c4ff4e370b44         NaN     Sms   \n",
       "2     f460ad3a-0041-4082-9269-c4ff4e370b44         NaN     Sms   \n",
       "3     f460ad3a-0041-4082-9269-c4ff4e370b44         NaN     Sms   \n",
       "4     f460ad3a-0041-4082-9269-c4ff4e370b44         NaN     Sms   \n",
       "...                                    ...         ...     ...   \n",
       "6037  f460ad3a-0041-4082-9269-c4ff4e370b44         NaN     Sms   \n",
       "6038  f460ad3a-0041-4082-9269-c4ff4e370b44         NaN     Sms   \n",
       "6039  f460ad3a-0041-4082-9269-c4ff4e370b44         NaN     Sms   \n",
       "6040  f460ad3a-0041-4082-9269-c4ff4e370b44         NaN     Sms   \n",
       "6041  f460ad3a-0041-4082-9269-c4ff4e370b44         NaN     Sms   \n",
       "\n",
       "                ConversationId  ConversationInitiated     ConversationDate  \\\n",
       "0     5c2ef355680e5af7063fc976          1546580821371  2019-01-04 05:47:01   \n",
       "1     5c2ef47a680e5af7063fcae0          1546581114286  2019-01-04 05:51:54   \n",
       "2     5c2eecc13e1b9890052f2a11          1546579137193  2019-01-04 05:18:57   \n",
       "3     5c2ef0d0680e5af7063fc747          1546580176263  2019-01-04 05:36:16   \n",
       "4     5c2ef2db680e5af7063fc8d9          1546580699896  2019-01-04 05:44:59   \n",
       "...                        ...                    ...                  ...   \n",
       "6037  600f3f33c3fb5c174323514e          1611611955607  2021-01-25 21:59:15   \n",
       "6038  600f6757c3fb5c174324d8d4          1611622231430  2021-01-26 00:50:31   \n",
       "6039  600f2263c3fb5c17432317b1          1611604579307  2021-01-25 19:56:19   \n",
       "6040  600f4e2bc3fb5c1743236969          1611615787700  2021-01-25 23:03:07   \n",
       "6041  600f3f33c3fb5c174323514e          1611611955607  2021-01-25 21:59:15   \n",
       "\n",
       "      ConversationDuration ConversationEndedBy ConversationEndedCategory  \\\n",
       "0                 43232348              SYSTEM                   Timeout   \n",
       "1                 43234967              SYSTEM                   Timeout   \n",
       "2                 45410220              SYSTEM                   Timeout   \n",
       "3                 44417572              SYSTEM                   Timeout   \n",
       "4                 44033069              SYSTEM                   Timeout   \n",
       "...                    ...                 ...                       ...   \n",
       "6037             105198908              SYSTEM                   Timeout   \n",
       "6038              54248005              SYSTEM                   Timeout   \n",
       "6039              76631201              SYSTEM                   Timeout   \n",
       "6040              74120527              SYSTEM                   Timeout   \n",
       "6041             105198908              SYSTEM                   Timeout   \n",
       "\n",
       "      ConversationEndedSubCategory  ... CallLegEndedCategory  \\\n",
       "0                              NaN  ...                  NaN   \n",
       "1                              NaN  ...                  NaN   \n",
       "2                              NaN  ...                  NaN   \n",
       "3                              NaN  ...                  NaN   \n",
       "4                              NaN  ...                  NaN   \n",
       "...                            ...  ...                  ...   \n",
       "6037                           NaN  ...                  NaN   \n",
       "6038                           NaN  ...                  NaN   \n",
       "6039                           NaN  ...                  NaN   \n",
       "6040                           NaN  ...                  NaN   \n",
       "6041                           NaN  ...                  NaN   \n",
       "\n",
       "      CallLegEndedSubCategory ActiveConversationId QueueDuration    Duration  \\\n",
       "0                         NaN                  NaN           NaN         NaN   \n",
       "1                         NaN                  NaN           NaN         NaN   \n",
       "2                         NaN                  NaN           NaN         NaN   \n",
       "3                         NaN                  NaN           NaN         NaN   \n",
       "4                         NaN                  NaN           NaN         NaN   \n",
       "...                       ...                  ...           ...         ...   \n",
       "6037                      NaN                  NaN           NaN  43200332.0   \n",
       "6038                      NaN                  NaN           NaN         NaN   \n",
       "6039                      NaN                  NaN           NaN         NaN   \n",
       "6040                      NaN                  NaN           NaN         NaN   \n",
       "6041                      NaN                  NaN           NaN         NaN   \n",
       "\n",
       "     Abandoned VisitorWait     AnyText     AccountHash OutboundCall  \n",
       "0         True         NaN         NaN  VWmmSfM25aauaP          NaN  \n",
       "1         True         NaN         NaN  VWmmSfM25aauaP          NaN  \n",
       "2         True         NaN         NaN  VWmmSfM25aauaP          NaN  \n",
       "3         True         NaN         NaN  VWmmSfM25aauaP          NaN  \n",
       "4         True         NaN         NaN  VWmmSfM25aauaP          NaN  \n",
       "...        ...         ...         ...             ...          ...  \n",
       "6037      True         NaN  Available?  VWmmSfM25aauaP          NaN  \n",
       "6038      True         NaN         NaN  VWmmSfM25aauaP          NaN  \n",
       "6039      True         NaN         NaN  VWmmSfM25aauaP          NaN  \n",
       "6040      True         NaN         NaN  VWmmSfM25aauaP          NaN  \n",
       "6041      True         NaN         NaN  VWmmSfM25aauaP          NaN  \n",
       "\n",
       "[63419 rows x 32 columns]"
      ],
      "text/html": "<div>\n<style scoped>\n    .dataframe tbody tr th:only-of-type {\n        vertical-align: middle;\n    }\n\n    .dataframe tbody tr th {\n        vertical-align: top;\n    }\n\n    .dataframe thead th {\n        text-align: right;\n    }\n</style>\n<table border=\"1\" class=\"dataframe\">\n  <thead>\n    <tr style=\"text-align: right;\">\n      <th></th>\n      <th>AccountId</th>\n      <th>AccountNum</th>\n      <th>Channel</th>\n      <th>ConversationId</th>\n      <th>ConversationInitiated</th>\n      <th>ConversationDate</th>\n      <th>ConversationDuration</th>\n      <th>ConversationEndedBy</th>\n      <th>ConversationEndedCategory</th>\n      <th>ConversationEndedSubCategory</th>\n      <th>...</th>\n      <th>CallLegEndedCategory</th>\n      <th>CallLegEndedSubCategory</th>\n      <th>ActiveConversationId</th>\n      <th>QueueDuration</th>\n      <th>Duration</th>\n      <th>Abandoned</th>\n      <th>VisitorWait</th>\n      <th>AnyText</th>\n      <th>AccountHash</th>\n      <th>OutboundCall</th>\n    </tr>\n  </thead>\n  <tbody>\n    <tr>\n      <th>0</th>\n      <td>f460ad3a-0041-4082-9269-c4ff4e370b44</td>\n      <td>NaN</td>\n      <td>Sms</td>\n      <td>5c2ef355680e5af7063fc976</td>\n      <td>1546580821371</td>\n      <td>2019-01-04 05:47:01</td>\n      <td>43232348</td>\n      <td>SYSTEM</td>\n      <td>Timeout</td>\n      <td>NaN</td>\n      <td>...</td>\n      <td>NaN</td>\n      <td>NaN</td>\n      <td>NaN</td>\n      <td>NaN</td>\n      <td>NaN</td>\n      <td>True</td>\n      <td>NaN</td>\n      <td>NaN</td>\n      <td>VWmmSfM25aauaP</td>\n      <td>NaN</td>\n    </tr>\n    <tr>\n      <th>1</th>\n      <td>f460ad3a-0041-4082-9269-c4ff4e370b44</td>\n      <td>NaN</td>\n      <td>Sms</td>\n      <td>5c2ef47a680e5af7063fcae0</td>\n      <td>1546581114286</td>\n      <td>2019-01-04 05:51:54</td>\n      <td>43234967</td>\n      <td>SYSTEM</td>\n      <td>Timeout</td>\n      <td>NaN</td>\n      <td>...</td>\n      <td>NaN</td>\n      <td>NaN</td>\n      <td>NaN</td>\n      <td>NaN</td>\n      <td>NaN</td>\n      <td>True</td>\n      <td>NaN</td>\n      <td>NaN</td>\n      <td>VWmmSfM25aauaP</td>\n      <td>NaN</td>\n    </tr>\n    <tr>\n      <th>2</th>\n      <td>f460ad3a-0041-4082-9269-c4ff4e370b44</td>\n      <td>NaN</td>\n      <td>Sms</td>\n      <td>5c2eecc13e1b9890052f2a11</td>\n      <td>1546579137193</td>\n      <td>2019-01-04 05:18:57</td>\n      <td>45410220</td>\n      <td>SYSTEM</td>\n      <td>Timeout</td>\n      <td>NaN</td>\n      <td>...</td>\n      <td>NaN</td>\n      <td>NaN</td>\n      <td>NaN</td>\n      <td>NaN</td>\n      <td>NaN</td>\n      <td>True</td>\n      <td>NaN</td>\n      <td>NaN</td>\n      <td>VWmmSfM25aauaP</td>\n      <td>NaN</td>\n    </tr>\n    <tr>\n      <th>3</th>\n      <td>f460ad3a-0041-4082-9269-c4ff4e370b44</td>\n      <td>NaN</td>\n      <td>Sms</td>\n      <td>5c2ef0d0680e5af7063fc747</td>\n      <td>1546580176263</td>\n      <td>2019-01-04 05:36:16</td>\n      <td>44417572</td>\n      <td>SYSTEM</td>\n      <td>Timeout</td>\n      <td>NaN</td>\n      <td>...</td>\n      <td>NaN</td>\n      <td>NaN</td>\n      <td>NaN</td>\n      <td>NaN</td>\n      <td>NaN</td>\n      <td>True</td>\n      <td>NaN</td>\n      <td>NaN</td>\n      <td>VWmmSfM25aauaP</td>\n      <td>NaN</td>\n    </tr>\n    <tr>\n      <th>4</th>\n      <td>f460ad3a-0041-4082-9269-c4ff4e370b44</td>\n      <td>NaN</td>\n      <td>Sms</td>\n      <td>5c2ef2db680e5af7063fc8d9</td>\n      <td>1546580699896</td>\n      <td>2019-01-04 05:44:59</td>\n      <td>44033069</td>\n      <td>SYSTEM</td>\n      <td>Timeout</td>\n      <td>NaN</td>\n      <td>...</td>\n      <td>NaN</td>\n      <td>NaN</td>\n      <td>NaN</td>\n      <td>NaN</td>\n      <td>NaN</td>\n      <td>True</td>\n      <td>NaN</td>\n      <td>NaN</td>\n      <td>VWmmSfM25aauaP</td>\n      <td>NaN</td>\n    </tr>\n    <tr>\n      <th>...</th>\n      <td>...</td>\n      <td>...</td>\n      <td>...</td>\n      <td>...</td>\n      <td>...</td>\n      <td>...</td>\n      <td>...</td>\n      <td>...</td>\n      <td>...</td>\n      <td>...</td>\n      <td>...</td>\n      <td>...</td>\n      <td>...</td>\n      <td>...</td>\n      <td>...</td>\n      <td>...</td>\n      <td>...</td>\n      <td>...</td>\n      <td>...</td>\n      <td>...</td>\n      <td>...</td>\n    </tr>\n    <tr>\n      <th>6037</th>\n      <td>f460ad3a-0041-4082-9269-c4ff4e370b44</td>\n      <td>NaN</td>\n      <td>Sms</td>\n      <td>600f3f33c3fb5c174323514e</td>\n      <td>1611611955607</td>\n      <td>2021-01-25 21:59:15</td>\n      <td>105198908</td>\n      <td>SYSTEM</td>\n      <td>Timeout</td>\n      <td>NaN</td>\n      <td>...</td>\n      <td>NaN</td>\n      <td>NaN</td>\n      <td>NaN</td>\n      <td>NaN</td>\n      <td>43200332.0</td>\n      <td>True</td>\n      <td>NaN</td>\n      <td>Available?</td>\n      <td>VWmmSfM25aauaP</td>\n      <td>NaN</td>\n    </tr>\n    <tr>\n      <th>6038</th>\n      <td>f460ad3a-0041-4082-9269-c4ff4e370b44</td>\n      <td>NaN</td>\n      <td>Sms</td>\n      <td>600f6757c3fb5c174324d8d4</td>\n      <td>1611622231430</td>\n      <td>2021-01-26 00:50:31</td>\n      <td>54248005</td>\n      <td>SYSTEM</td>\n      <td>Timeout</td>\n      <td>NaN</td>\n      <td>...</td>\n      <td>NaN</td>\n      <td>NaN</td>\n      <td>NaN</td>\n      <td>NaN</td>\n      <td>NaN</td>\n      <td>True</td>\n      <td>NaN</td>\n      <td>NaN</td>\n      <td>VWmmSfM25aauaP</td>\n      <td>NaN</td>\n    </tr>\n    <tr>\n      <th>6039</th>\n      <td>f460ad3a-0041-4082-9269-c4ff4e370b44</td>\n      <td>NaN</td>\n      <td>Sms</td>\n      <td>600f2263c3fb5c17432317b1</td>\n      <td>1611604579307</td>\n      <td>2021-01-25 19:56:19</td>\n      <td>76631201</td>\n      <td>SYSTEM</td>\n      <td>Timeout</td>\n      <td>NaN</td>\n      <td>...</td>\n      <td>NaN</td>\n      <td>NaN</td>\n      <td>NaN</td>\n      <td>NaN</td>\n      <td>NaN</td>\n      <td>True</td>\n      <td>NaN</td>\n      <td>NaN</td>\n      <td>VWmmSfM25aauaP</td>\n      <td>NaN</td>\n    </tr>\n    <tr>\n      <th>6040</th>\n      <td>f460ad3a-0041-4082-9269-c4ff4e370b44</td>\n      <td>NaN</td>\n      <td>Sms</td>\n      <td>600f4e2bc3fb5c1743236969</td>\n      <td>1611615787700</td>\n      <td>2021-01-25 23:03:07</td>\n      <td>74120527</td>\n      <td>SYSTEM</td>\n      <td>Timeout</td>\n      <td>NaN</td>\n      <td>...</td>\n      <td>NaN</td>\n      <td>NaN</td>\n      <td>NaN</td>\n      <td>NaN</td>\n      <td>NaN</td>\n      <td>True</td>\n      <td>NaN</td>\n      <td>NaN</td>\n      <td>VWmmSfM25aauaP</td>\n      <td>NaN</td>\n    </tr>\n    <tr>\n      <th>6041</th>\n      <td>f460ad3a-0041-4082-9269-c4ff4e370b44</td>\n      <td>NaN</td>\n      <td>Sms</td>\n      <td>600f3f33c3fb5c174323514e</td>\n      <td>1611611955607</td>\n      <td>2021-01-25 21:59:15</td>\n      <td>105198908</td>\n      <td>SYSTEM</td>\n      <td>Timeout</td>\n      <td>NaN</td>\n      <td>...</td>\n      <td>NaN</td>\n      <td>NaN</td>\n      <td>NaN</td>\n      <td>NaN</td>\n      <td>NaN</td>\n      <td>True</td>\n      <td>NaN</td>\n      <td>NaN</td>\n      <td>VWmmSfM25aauaP</td>\n      <td>NaN</td>\n    </tr>\n  </tbody>\n</table>\n<p>63419 rows × 32 columns</p>\n</div>"
     },
     "metadata": {},
     "execution_count": 5
    }
   ],
   "source": [
    "convo_all.append(df_2019b)\n",
    "convo_all.append(df_2020a)\n",
    "convo_all.append(df_2020b)\n",
    "convo_all.append(df_2021a)"
   ]
  },
  {
   "cell_type": "code",
   "execution_count": 6,
   "metadata": {},
   "outputs": [
    {
     "output_type": "execute_result",
     "data": {
      "text/plain": [
       "Index(['AccountId', 'AccountNum', 'Channel', 'ConversationId',\n",
       "       'ConversationInitiated', 'ConversationDate', 'ConversationDuration',\n",
       "       'ConversationEndedBy', 'ConversationEndedCategory',\n",
       "       'ConversationEndedSubCategory', 'Id', 'Initiated', 'Event', 'Text',\n",
       "       'MMS', 'Group', 'ParticipantId', 'ParticipantRole',\n",
       "       'ParticipantUserName', 'ClaimedById', 'ClaimedByUserName',\n",
       "       'CallLegEndedBy', 'CallLegEndedCategory', 'CallLegEndedSubCategory',\n",
       "       'ActiveConversationId', 'QueueDuration', 'Duration', 'Abandoned',\n",
       "       'VisitorWait', 'AnyText', 'AccountHash', 'OutboundCall'],\n",
       "      dtype='object')"
      ]
     },
     "metadata": {},
     "execution_count": 6
    }
   ],
   "source": [
    "convo_all.columns"
   ]
  },
  {
   "cell_type": "code",
   "execution_count": 8,
   "metadata": {},
   "outputs": [],
   "source": [
    "convo_all = convo_all.drop(columns= ['AccountId', 'AccountNum', 'Channel', 'ConversationDuration', 'ConversationEndedCategory', 'ConversationEndedSubCategory', 'Group','MMS', 'ParticipantUserName', 'ClaimedById', 'ClaimedByUserName','CallLegEndedBy', 'CallLegEndedCategory', 'CallLegEndedSubCategory', 'ActiveConversationId','AccountHash', 'OutboundCall'])"
   ]
  },
  {
   "cell_type": "code",
   "execution_count": 11,
   "metadata": {},
   "outputs": [],
   "source": [
    "convo_all.index.name = 'index'"
   ]
  },
  {
   "cell_type": "code",
   "execution_count": 13,
   "metadata": {},
   "outputs": [],
   "source": [
    "convo_all = convo_all.sort_values(['ConversationId', 'index'])"
   ]
  },
  {
   "cell_type": "code",
   "execution_count": 16,
   "metadata": {},
   "outputs": [],
   "source": [
    "convo_all.to_csv(\"../data/sorted_new.csv\")"
   ]
  },
  {
   "cell_type": "code",
   "execution_count": null,
   "metadata": {},
   "outputs": [],
   "source": []
  }
 ]
}