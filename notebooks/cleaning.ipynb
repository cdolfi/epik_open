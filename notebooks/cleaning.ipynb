{
 "metadata": {
  "language_info": {
   "codemirror_mode": {
    "name": "ipython",
    "version": 3
   },
   "file_extension": ".py",
   "mimetype": "text/x-python",
   "name": "python",
   "nbconvert_exporter": "python",
   "pygments_lexer": "ipython3",
   "version": "3.9.4"
  },
  "orig_nbformat": 2,
  "kernelspec": {
   "name": "python3",
   "display_name": "Python 3",
   "language": "python"
  }
 },
 "nbformat": 4,
 "nbformat_minor": 2,
 "cells": [
  {
   "cell_type": "code",
   "execution_count": 18,
   "metadata": {},
   "outputs": [],
   "source": [
    "import pandas as pd\n",
    "import numpy as np\n",
    "import matplotlib.pyplot as plt\n",
    "plt.style.use('seaborn-bright')"
   ]
  },
  {
   "cell_type": "code",
   "execution_count": 19,
   "metadata": {},
   "outputs": [],
   "source": [
    "convo_all = pd.read_csv(\"../data/Epik_2019A.csv\")\n",
    "df_2019b = pd.read_csv(\"../data/Epik_2019B.csv\")\n",
    "df_2020a = pd.read_csv(\"../data/Epik_2020A.csv\")\n",
    "df_2020b = pd.read_csv(\"../data/Epik_2020B.csv\")\n",
    "df_2021a = pd.read_csv(\"../data/Epik_2021A.csv\")"
   ]
  },
  {
   "cell_type": "code",
   "execution_count": 20,
   "metadata": {},
   "outputs": [],
   "source": [
    "convo_all = convo_all.append(df_2019b)\n",
    "convo_all = convo_all.append(df_2020a)\n",
    "convo_all = convo_all.append(df_2020b)\n",
    "convo_all = convo_all.append(df_2021a)"
   ]
  },
  {
   "cell_type": "code",
   "execution_count": 21,
   "metadata": {},
   "outputs": [
    {
     "output_type": "execute_result",
     "data": {
      "text/plain": [
       "Index(['AccountId', 'AccountNum', 'Channel', 'ConversationId',\n",
       "       'ConversationInitiated', 'ConversationDate', 'ConversationDuration',\n",
       "       'ConversationEndedBy', 'ConversationEndedCategory',\n",
       "       'ConversationEndedSubCategory', 'Id', 'Initiated', 'Event', 'Text',\n",
       "       'MMS', 'Group', 'ParticipantId', 'ParticipantRole',\n",
       "       'ParticipantUserName', 'ClaimedById', 'ClaimedByUserName',\n",
       "       'CallLegEndedBy', 'CallLegEndedCategory', 'CallLegEndedSubCategory',\n",
       "       'ActiveConversationId', 'QueueDuration', 'Duration', 'Abandoned',\n",
       "       'VisitorWait', 'AnyText', 'AccountHash', 'OutboundCall'],\n",
       "      dtype='object')"
      ]
     },
     "metadata": {},
     "execution_count": 21
    }
   ],
   "source": [
    "convo_all.columns"
   ]
  },
  {
   "cell_type": "code",
   "execution_count": 22,
   "metadata": {},
   "outputs": [],
   "source": [
    "convo_all = convo_all.drop(columns= ['AccountId', 'AccountNum', 'Channel', 'ConversationDuration', 'ConversationEndedCategory', 'ConversationEndedSubCategory', 'Group','MMS', 'ParticipantUserName', 'ClaimedById', 'ClaimedByUserName','CallLegEndedBy', 'CallLegEndedCategory', 'CallLegEndedSubCategory', 'ActiveConversationId','AccountHash', 'OutboundCall'])"
   ]
  },
  {
   "cell_type": "code",
   "execution_count": 23,
   "metadata": {},
   "outputs": [],
   "source": [
    "convo_all.index.name = 'index'"
   ]
  },
  {
   "cell_type": "code",
   "execution_count": 24,
   "metadata": {},
   "outputs": [],
   "source": [
    "convo_all = convo_all.sort_values(['ConversationId', 'index'])"
   ]
  },
  {
   "cell_type": "code",
   "execution_count": 25,
   "metadata": {},
   "outputs": [],
   "source": [
    "convo_all[\"Initiated\"] = pd.to_datetime(convo_all[\"Initiated\"], unit=\"ms\").dt.floor('S')"
   ]
  },
  {
   "cell_type": "code",
   "execution_count": 26,
   "metadata": {},
   "outputs": [],
   "source": [
    "convo_all.to_csv(\"../data/sorted_new.csv\")"
   ]
  },
  {
   "cell_type": "code",
   "execution_count": null,
   "metadata": {},
   "outputs": [],
   "source": []
  }
 ]
}