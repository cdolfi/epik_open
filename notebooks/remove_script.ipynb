{
 "metadata": {
  "language_info": {
   "codemirror_mode": {
    "name": "ipython",
    "version": 3
   },
   "file_extension": ".py",
   "mimetype": "text/x-python",
   "name": "python",
   "nbconvert_exporter": "python",
   "pygments_lexer": "ipython3",
   "version": "3.7.3-final"
  },
  "orig_nbformat": 2,
  "kernelspec": {
   "name": "python3",
   "display_name": "Python 3.7.3 64-bit",
   "metadata": {
    "interpreter": {
     "hash": "70b38d7a306a849643e446cd70466270a13445e5987dfa1344ef2b127438fa4d"
    }
   }
  }
 },
 "nbformat": 4,
 "nbformat_minor": 2,
 "cells": [
  {
   "cell_type": "code",
   "execution_count": 4,
   "metadata": {},
   "outputs": [],
   "source": [
    "import pandas as pd\n",
    "import numpy as np\n",
    "import re\n",
    "import os\n",
    "import datetime\n",
    "from collections import defaultdict\n",
    "from pathlib import Path\n",
    "from difflib import SequenceMatcher"
   ]
  },
  {
   "cell_type": "code",
   "execution_count": 9,
   "metadata": {},
   "outputs": [],
   "source": [
    "df = pd.read_csv('../data/sorted_new.csv')"
   ]
  },
  {
   "cell_type": "code",
   "execution_count": 10,
   "metadata": {},
   "outputs": [],
   "source": [
    "script_text = ['Are you aware that many of the girls who get involved in prostitution are minors?',\n",
    "'Your number has been recorded and is available for police follow up, and I have 3 things you need to hear. Arrests have been made. Cooperation will be noted.',\n",
    "'Most are forced into trafficking by pimps who take 100 of the money? Did you know that?',\n",
    "'Yeah, the business is set up to fool men into believing they’re doing something harmless, but it’s enslaving women. These girls are forced to sell themselves by pimps who, as we said, take 100 of the money and control them with force, fraud, coercion and things like drugs and fear.',\n",
    "'Are you aware that buying sex is illegal?',\n",
    "'If you are prosecuted you face expensive fines and potential prison time. If the girl is a minor, the penalties increase dramatically and can ruin your life. You may also have to register as a Sex Offender.  These penalties are for first time offenders. If you call again, these things could happen to you.  Do you understand?',\n",
    "'May I text you information on where to get anonymous help?',\n",
    "'Thank you for cooperating. Remember, do not call again or you will go up on the priority list and arrests have been made, do you understand sir? Ok, please take care. There are better things than this.  This is your fresh start. Have a better night.',\n",
    "'This isn’t your thing anymore.  I’ve only talked with you for one minute and I can tell you’re a better man than this.  You do not want to ever call one of these ads again, do you understand?',\n",
    "'Yeah, how many times do you think I’ve heard that one?',\n",
    "'When I asked if you were calling for you said yes',\n",
    "'This number is only used for Adult Escort ads on Backpage, and you said yes when I asked if you were calling for',\n",
    "' Adult Escort sites are well known for prostitution ads. If you don’t want to be associated with buying sex online, then you should avoid these sites regardless of your intentions.']"
   ]
  },
  {
   "cell_type": "code",
   "execution_count": 11,
   "metadata": {},
   "outputs": [],
   "source": [
    "def script(text):\n",
    "    match = False\n",
    "    for s in script_text:\n",
    "        ratio = SequenceMatcher(None, s, text).ratio()\n",
    "        if ratio > .7:\n",
    "            match = True\n",
    "            break\n",
    "    return match"
   ]
  },
  {
   "cell_type": "code",
   "execution_count": 12,
   "metadata": {},
   "outputs": [],
   "source": [
    "df[\"script\"] = np.nan\n",
    "df = df[df['Text'].notna()]"
   ]
  },
  {
   "cell_type": "code",
   "execution_count": 22,
   "metadata": {},
   "outputs": [
    {
     "output_type": "execute_result",
     "data": {
      "text/plain": [
       "             ConversationId  ConversationInitiated     ConversationDate  \\\n",
       "1  5c2d2042f92dde6e0d623bc5          1546461250000  2019-01-02 20:34:10   \n",
       "3  5c2ee93e3e1b9890052f246a          1546578238531  2019-01-04 05:03:58   \n",
       "5  5c2ee93e3e1b9890052f246a          1546578238531  2019-01-04 05:03:58   \n",
       "6  5c2ee93e3e1b9890052f246a          1546578238531  2019-01-04 05:03:58   \n",
       "7  5c2ee93e3e1b9890052f246a          1546578238531  2019-01-04 05:03:58   \n",
       "\n",
       "  ConversationEndedBy                        Id            Initiated Event  \\\n",
       "1              SYSTEM  5c2d2042f92dde6e0d623bc7  2019-01-02 20:34:10   NaN   \n",
       "3              SYSTEM  5c2ee93e3e1b9890052f246c  2019-01-04 05:03:58   NaN   \n",
       "5              SYSTEM  5c2ee95b3e1b9890052f247b  2019-01-04 05:04:27   NaN   \n",
       "6              SYSTEM  5c2eebbf3e1b9890052f28e1  2019-01-04 05:14:39   NaN   \n",
       "7              SYSTEM  5c2eebec3e1b9890052f291c  2019-01-04 05:15:24   NaN   \n",
       "\n",
       "                  Text   ParticipantId ParticipantRole  QueueDuration  \\\n",
       "1  U tell me im junior      7605202845         Visitor     43209078.0   \n",
       "3                   Hi      8168241807         Visitor        29072.0   \n",
       "5      hey :) how r u?  DQVCTWMS5aaaaN           Agent            NaN   \n",
       "6         still there?  DQVCTWMS5aaaaN           Agent            NaN   \n",
       "7                   Hi      8168241807         Visitor            NaN   \n",
       "\n",
       "     Duration  Abandoned  VisitorWait              AnyText  \n",
       "1  43209078.0       True          NaN  U tell me im junior  \n",
       "3     29072.0       True      29072.0                   Hi  \n",
       "5    611946.0       True          NaN      hey :) how r u?  \n",
       "6     45298.0       True          NaN         still there?  \n",
       "7     12214.0       True      12214.0                   Hi  "
      ],
      "text/html": "<div>\n<style scoped>\n    .dataframe tbody tr th:only-of-type {\n        vertical-align: middle;\n    }\n\n    .dataframe tbody tr th {\n        vertical-align: top;\n    }\n\n    .dataframe thead th {\n        text-align: right;\n    }\n</style>\n<table border=\"1\" class=\"dataframe\">\n  <thead>\n    <tr style=\"text-align: right;\">\n      <th></th>\n      <th>ConversationId</th>\n      <th>ConversationInitiated</th>\n      <th>ConversationDate</th>\n      <th>ConversationEndedBy</th>\n      <th>Id</th>\n      <th>Initiated</th>\n      <th>Event</th>\n      <th>Text</th>\n      <th>ParticipantId</th>\n      <th>ParticipantRole</th>\n      <th>QueueDuration</th>\n      <th>Duration</th>\n      <th>Abandoned</th>\n      <th>VisitorWait</th>\n      <th>AnyText</th>\n    </tr>\n  </thead>\n  <tbody>\n    <tr>\n      <th>1</th>\n      <td>5c2d2042f92dde6e0d623bc5</td>\n      <td>1546461250000</td>\n      <td>2019-01-02 20:34:10</td>\n      <td>SYSTEM</td>\n      <td>5c2d2042f92dde6e0d623bc7</td>\n      <td>2019-01-02 20:34:10</td>\n      <td>NaN</td>\n      <td>U tell me im junior</td>\n      <td>7605202845</td>\n      <td>Visitor</td>\n      <td>43209078.0</td>\n      <td>43209078.0</td>\n      <td>True</td>\n      <td>NaN</td>\n      <td>U tell me im junior</td>\n    </tr>\n    <tr>\n      <th>3</th>\n      <td>5c2ee93e3e1b9890052f246a</td>\n      <td>1546578238531</td>\n      <td>2019-01-04 05:03:58</td>\n      <td>SYSTEM</td>\n      <td>5c2ee93e3e1b9890052f246c</td>\n      <td>2019-01-04 05:03:58</td>\n      <td>NaN</td>\n      <td>Hi</td>\n      <td>8168241807</td>\n      <td>Visitor</td>\n      <td>29072.0</td>\n      <td>29072.0</td>\n      <td>True</td>\n      <td>29072.0</td>\n      <td>Hi</td>\n    </tr>\n    <tr>\n      <th>5</th>\n      <td>5c2ee93e3e1b9890052f246a</td>\n      <td>1546578238531</td>\n      <td>2019-01-04 05:03:58</td>\n      <td>SYSTEM</td>\n      <td>5c2ee95b3e1b9890052f247b</td>\n      <td>2019-01-04 05:04:27</td>\n      <td>NaN</td>\n      <td>hey :) how r u?</td>\n      <td>DQVCTWMS5aaaaN</td>\n      <td>Agent</td>\n      <td>NaN</td>\n      <td>611946.0</td>\n      <td>True</td>\n      <td>NaN</td>\n      <td>hey :) how r u?</td>\n    </tr>\n    <tr>\n      <th>6</th>\n      <td>5c2ee93e3e1b9890052f246a</td>\n      <td>1546578238531</td>\n      <td>2019-01-04 05:03:58</td>\n      <td>SYSTEM</td>\n      <td>5c2eebbf3e1b9890052f28e1</td>\n      <td>2019-01-04 05:14:39</td>\n      <td>NaN</td>\n      <td>still there?</td>\n      <td>DQVCTWMS5aaaaN</td>\n      <td>Agent</td>\n      <td>NaN</td>\n      <td>45298.0</td>\n      <td>True</td>\n      <td>NaN</td>\n      <td>still there?</td>\n    </tr>\n    <tr>\n      <th>7</th>\n      <td>5c2ee93e3e1b9890052f246a</td>\n      <td>1546578238531</td>\n      <td>2019-01-04 05:03:58</td>\n      <td>SYSTEM</td>\n      <td>5c2eebec3e1b9890052f291c</td>\n      <td>2019-01-04 05:15:24</td>\n      <td>NaN</td>\n      <td>Hi</td>\n      <td>8168241807</td>\n      <td>Visitor</td>\n      <td>NaN</td>\n      <td>12214.0</td>\n      <td>True</td>\n      <td>12214.0</td>\n      <td>Hi</td>\n    </tr>\n  </tbody>\n</table>\n</div>"
     },
     "metadata": {},
     "execution_count": 22
    }
   ],
   "source": [
    "df.head()\n"
   ]
  },
  {
   "cell_type": "code",
   "execution_count": 15,
   "metadata": {},
   "outputs": [],
   "source": [
    "df[[\"script\"]] = df[\"Text\"].apply(\n",
    "    lambda x: script(x)\n",
    ")"
   ]
  },
  {
   "cell_type": "code",
   "execution_count": 17,
   "metadata": {},
   "outputs": [
    {
     "output_type": "execute_result",
     "data": {
      "text/plain": [
       "False    150787\n",
       "True       3203\n",
       "Name: script, dtype: int64"
      ]
     },
     "metadata": {},
     "execution_count": 17
    }
   ],
   "source": [
    "df['script'].value_counts()"
   ]
  },
  {
   "cell_type": "code",
   "execution_count": 18,
   "metadata": {},
   "outputs": [],
   "source": [
    "df = df[df['script'] == False]"
   ]
  },
  {
   "cell_type": "code",
   "execution_count": 21,
   "metadata": {},
   "outputs": [
    {
     "output_type": "stream",
     "name": "stderr",
     "text": [
      "/Library/Frameworks/Python.framework/Versions/3.7/lib/python3.7/site-packages/pandas/core/frame.py:3997: SettingWithCopyWarning: \nA value is trying to be set on a copy of a slice from a DataFrame\n\nSee the caveats in the documentation: https://pandas.pydata.org/pandas-docs/stable/user_guide/indexing.html#returning-a-view-versus-a-copy\n  errors=errors,\n"
     ]
    }
   ],
   "source": [
    "df.drop('index', axis=1, inplace=True)\n",
    "df.drop('script', axis=1, inplace=True)"
   ]
  },
  {
   "cell_type": "code",
   "execution_count": 23,
   "metadata": {},
   "outputs": [],
   "source": [
    "df.to_csv(\"../data/unique_messages.csv\")"
   ]
  },
  {
   "cell_type": "code",
   "execution_count": null,
   "metadata": {},
   "outputs": [],
   "source": []
  }
 ]
}